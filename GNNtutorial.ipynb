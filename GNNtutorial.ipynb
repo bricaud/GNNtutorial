{
  "nbformat": 4,
  "nbformat_minor": 0,
  "metadata": {
    "colab": {
      "provenance": [],
      "authorship_tag": "ABX9TyMJzuuIVFlCQ9DjtLAlNRFY",
      "include_colab_link": true
    },
    "kernelspec": {
      "name": "python3",
      "display_name": "Python 3"
    },
    "language_info": {
      "name": "python"
    }
  },
  "cells": [
    {
      "cell_type": "markdown",
      "metadata": {
        "id": "view-in-github",
        "colab_type": "text"
      },
      "source": [
        "<a href=\"https://colab.research.google.com/github/bricaud/GNNtutorial/blob/main/GNNtutorial.ipynb\" target=\"_parent\"><img src=\"https://colab.research.google.com/assets/colab-badge.svg\" alt=\"Open In Colab\"/></a>"
      ]
    },
    {
      "cell_type": "markdown",
      "source": [
        "# Short tutorial on Graph Neural Networks\n",
        "\n"
      ],
      "metadata": {
        "id": "Uh4L8fuK95Gf"
      }
    },
    {
      "cell_type": "markdown",
      "source": [
        "## Introduction\n",
        "What do we need to use Graph Neural Networks (GNNs)?\n",
        "\n",
        "* A graph,\n",
        "* A task to solve using Machine Learning, classification (boolean or integer) or regression (real number).\n",
        "\n",
        "What else?"
      ],
      "metadata": {
        "id": "x0xRXZlN_nU3"
      }
    },
    {
      "cell_type": "markdown",
      "source": [
        "We need features on the nodes. **Very important!**\n",
        "(and possibly features on the edges).\n",
        "\n",
        "Features on the nodes means: a vector of values associated to each node.\n",
        "\n",
        "GNNs learn to combine the graph information with the node feature information to solve the task."
      ],
      "metadata": {
        "id": "fpz-iSSH-bM_"
      }
    },
    {
      "cell_type": "markdown",
      "source": [
        "What tools do we need to build some GNNs with Python?\n",
        "* matrix manipulations : numpy\n",
        "* working with graphs : [networkx](https://networkx.org/)\n",
        "* some visualization tools: matplotlib\n",
        "\n",
        "**Note**: Python libraries for GNNs exist, with ready to use GNNs: [Pytorch geometric](https://github.com/pyg-team/pytorch_geometric), [Spektral](https://graphneural.network/), or [dgl](https://www.dgl.ai/). But here we focus on the basics and we won't use any of them."
      ],
      "metadata": {
        "id": "nRGVLfqd_3eA"
      }
    },
    {
      "cell_type": "code",
      "execution_count": 2,
      "metadata": {
        "id": "BHaOjND7Git_"
      },
      "outputs": [],
      "source": [
        "# Let's import the required libraries\n",
        "import numpy as np\n",
        "import networkx as nx\n",
        "import matplotlib.pyplot as plt"
      ]
    },
    {
      "cell_type": "markdown",
      "source": [
        "## The Graph\n",
        "Making a graph is easy with Networkx.\n",
        "For simplicity, we will use a predefined one.\n",
        "You can find a list of predefined graphs [here](https://networkx.org/documentation/stable/reference/generators.html)."
      ],
      "metadata": {
        "id": "OJDJABaqNkCy"
      }
    },
    {
      "cell_type": "code",
      "source": [
        "# let us define the graph\n",
        "N = 4 # number of nodes\n",
        "G = nx.path_graph(N)\n",
        "# another graph\n",
        "#G = nx.grid_2d_graph(2,3)\n",
        "#G = nx.lollipop_graph(N,1)\n",
        "# let us visualize it\n",
        "nx.draw(G, with_labels=True, font_weight='bold')"
      ],
      "metadata": {
        "colab": {
          "base_uri": "https://localhost:8080/",
          "height": 516
        },
        "id": "i_Ybqru5eOvM",
        "outputId": "494e6a3a-993f-4769-de75-53489db3390a"
      },
      "execution_count": 3,
      "outputs": [
        {
          "output_type": "display_data",
          "data": {
            "text/plain": [
              "<Figure size 640x480 with 1 Axes>"
            ],
            "image/png": "[encoded data removed]"
          },
          "metadata": {}
        }
      ]
    },
    {
      "cell_type": "code",
      "source": [
        "A = nx.adjacency_matrix(G)\n",
        "A.todense()"
      ],
      "metadata": {
        "colab": {
          "base_uri": "https://localhost:8080/"
        },
        "id": "67PoEN8sfKc1",
        "outputId": "2089a6ad-94eb-4efd-bcf2-8f86fa242885"
      },
      "execution_count": 4,
      "outputs": [
        {
          "output_type": "execute_result",
          "data": {
            "text/plain": [
              "array([[0, 1, 0, 0],\n",
              "       [1, 0, 1, 0],\n",
              "       [0, 1, 0, 1],\n",
              "       [0, 0, 1, 0]])"
            ]
          },
          "metadata": {},
          "execution_count": 4
        }
      ]
    },
    {
      "cell_type": "markdown",
      "source": [
        "We have a graph $G$ with $N$ nodes and adjacency matrix $A$.\n",
        "\n",
        "What else do we need?"
      ],
      "metadata": {
        "id": "Af4sD5bthsJl"
      }
    },
    {
      "cell_type": "markdown",
      "source": [
        "## The node features"
      ],
      "metadata": {
        "id": "tj9wg1GBQFnK"
      }
    },
    {
      "cell_type": "markdown",
      "source": [
        "We need to have information on the nodes: a vector of features $x_i\\in \\mathbb{R}^F$ at each node $i$. We gather the node information together in a matrix $X$ of size $N\\times F$.\n"
      ],
      "metadata": {
        "id": "gE5fGvsdP-ft"
      }
    },
    {
      "cell_type": "code",
      "source": [
        "F = 6 # Number of features\n",
        "X = np.zeros((N,F))\n",
        "# Let us add some values\n",
        "for idx in range(N):\n",
        "  X[idx,idx] = 1\n",
        "X[3,3:] = [1,1,1]\n",
        "X"
      ],
      "metadata": {
        "id": "DHZOxk7PfNPa",
        "colab": {
          "base_uri": "https://localhost:8080/"
        },
        "outputId": "5adfdc3c-f879-462d-a40f-71e40e549b21"
      },
      "execution_count": 5,
      "outputs": [
        {
          "output_type": "execute_result",
          "data": {
            "text/plain": [
              "array([[1., 0., 0., 0., 0., 0.],\n",
              "       [0., 1., 0., 0., 0., 0.],\n",
              "       [0., 0., 1., 0., 0., 0.],\n",
              "       [0., 0., 0., 1., 1., 1.]])"
            ]
          },
          "metadata": {},
          "execution_count": 5
        }
      ]
    },
    {
      "cell_type": "markdown",
      "source": [
        "## The Graph neural net\n",
        "Neural nets are made of layers of neurons. Let us define a layer of Graph neural net.\n",
        "\n",
        "We take the most standard architecture, introduced in [Kipf and Welling (2016)](https://arxiv.org/abs/1609.02907).\n",
        "The basic Graph neural net Layer use the following matrices:\n",
        "* $X$ matrix of node features\n",
        "* $W$ weight matrix (learnable)\n",
        "* $\\Delta$ matrix encoding the graph information (involving $A$)\n",
        "* $Y$ output features after the NN layer\n",
        "\n",
        "$$Y = \\Delta XW$$\n",
        "\n",
        "$W$ combines features for a new representation, $\\Delta$ aggregates features of connected nodes."
      ],
      "metadata": {
        "id": "W7qJsO0IQR22"
      }
    },
    {
      "cell_type": "markdown",
      "source": [
        "### The embeddings"
      ],
      "metadata": {
        "id": "2E14d49z37mh"
      }
    },
    {
      "cell_type": "code",
      "source": [
        "# Let us create an initial weight matrix W\n",
        "embed_size = 3 # choose an embedding size\n",
        "W = np.eye(F,embed_size)\n",
        "W[3:,0] = [1,1,1]\n",
        "W"
      ],
      "metadata": {
        "colab": {
          "base_uri": "https://localhost:8080/"
        },
        "id": "S1AYRjDzxPBW",
        "outputId": "69b61bf0-4330-47a1-f0fd-cea985b094d3"
      },
      "execution_count": 6,
      "outputs": [
        {
          "output_type": "execute_result",
          "data": {
            "text/plain": [
              "array([[1., 0., 0.],\n",
              "       [0., 1., 0.],\n",
              "       [0., 0., 1.],\n",
              "       [1., 0., 0.],\n",
              "       [1., 0., 0.],\n",
              "       [1., 0., 0.]])"
            ]
          },
          "metadata": {},
          "execution_count": 6
        }
      ]
    },
    {
      "cell_type": "markdown",
      "source": [
        "Multiplying the input X with the weights W create the embeddings. The network learns to combine efficiently the features values at each node to solve the task. The entries of W are learnable and will change as the network train."
      ],
      "metadata": {
        "id": "zfqfGChxzCHV"
      }
    },
    {
      "cell_type": "code",
      "source": [
        "# Initial embeddings\n",
        "Emb = X.dot(W)\n",
        "Emb"
      ],
      "metadata": {
        "id": "BtHO3bXlhw35",
        "colab": {
          "base_uri": "https://localhost:8080/"
        },
        "outputId": "0d51744d-6f4f-4471-81ae-1b818969925c"
      },
      "execution_count": 7,
      "outputs": [
        {
          "output_type": "execute_result",
          "data": {
            "text/plain": [
              "array([[1., 0., 0.],\n",
              "       [0., 1., 0.],\n",
              "       [0., 0., 1.],\n",
              "       [3., 0., 0.]])"
            ]
          },
          "metadata": {},
          "execution_count": 7
        }
      ]
    },
    {
      "cell_type": "markdown",
      "source": [
        "### The aggregation\n",
        "We are now going to perform the second operation of a Graph neural net layer: node aggregation. Let us see what happens in the simple case where $\\Delta = A$"
      ],
      "metadata": {
        "id": "9vDT6nhCz0eH"
      }
    },
    {
      "cell_type": "code",
      "source": [
        "# Let us recall what is A:\n",
        "A.todense()"
      ],
      "metadata": {
        "colab": {
          "base_uri": "https://localhost:8080/"
        },
        "id": "9tL-_wCDys0G",
        "outputId": "e2441539-ceea-4a37-f177-815af7bc5770"
      },
      "execution_count": 8,
      "outputs": [
        {
          "output_type": "execute_result",
          "data": {
            "text/plain": [
              "array([[0, 1, 0, 0],\n",
              "       [1, 0, 1, 0],\n",
              "       [0, 1, 0, 1],\n",
              "       [0, 0, 1, 0]])"
            ]
          },
          "metadata": {},
          "execution_count": 8
        }
      ]
    },
    {
      "cell_type": "code",
      "source": [
        "# The aggregation operation\n",
        "Agg = A@Emb\n",
        "Agg"
      ],
      "metadata": {
        "colab": {
          "base_uri": "https://localhost:8080/"
        },
        "id": "CyEhzXRmyJhz",
        "outputId": "7bddd24a-ed45-435c-d04e-a441ee4baf17"
      },
      "execution_count": 9,
      "outputs": [
        {
          "output_type": "execute_result",
          "data": {
            "text/plain": [
              "array([[0., 1., 0.],\n",
              "       [1., 0., 1.],\n",
              "       [3., 1., 0.],\n",
              "       [0., 0., 1.]])"
            ]
          },
          "metadata": {},
          "execution_count": 9
        }
      ]
    },
    {
      "cell_type": "code",
      "source": [
        "nx.draw(G, with_labels=True, font_weight='bold')"
      ],
      "metadata": {
        "colab": {
          "base_uri": "https://localhost:8080/",
          "height": 516
        },
        "id": "03MXpzx3yWaa",
        "outputId": "d8c419e3-7c31-4762-a2f3-3e4fd3ec0db1"
      },
      "execution_count": 10,
      "outputs": [
        {
          "output_type": "display_data",
          "data": {
            "text/plain": [
              "<Figure size 640x480 with 1 Axes>"
            ],
            "image/png": "[encoded data removed]"
          },
          "metadata": {}
        }
      ]
    },
    {
      "cell_type": "markdown",
      "source": [
        "Applying $A$ sum the embeddings of the neighbor nodes!\n",
        "\n",
        "First remark: To have a relevant representation, it may be useful to involve the embedding of the node itself in the aggregation! Solution: add self-edges (identity matrix)"
      ],
      "metadata": {
        "id": "eNHHIYXp0UjJ"
      }
    },
    {
      "cell_type": "code",
      "source": [
        "B = A + np.eye(4)\n",
        "B"
      ],
      "metadata": {
        "colab": {
          "base_uri": "https://localhost:8080/"
        },
        "id": "tioO2lkaym90",
        "outputId": "29df4cfd-b354-41bf-9231-d0b6f0569155"
      },
      "execution_count": 11,
      "outputs": [
        {
          "output_type": "execute_result",
          "data": {
            "text/plain": [
              "array([[1., 1., 0., 0.],\n",
              "       [1., 1., 1., 0.],\n",
              "       [0., 1., 1., 1.],\n",
              "       [0., 0., 1., 1.]])"
            ]
          },
          "metadata": {},
          "execution_count": 11
        }
      ]
    },
    {
      "cell_type": "markdown",
      "source": [
        "Second remark: All neighbors are treated equally in the agregation. It is actually one of the big problems with Graph neural Nets!\n",
        "\n",
        "We can improve the agregation by reducing the influence of highly connected nodes. They are neighbors of many nodes, so they can have a lot of influence!"
      ],
      "metadata": {
        "id": "rZX0sbVd1FKh"
      }
    },
    {
      "cell_type": "code",
      "source": [
        "# Degree matrix\n",
        "degrees = np.sum(B,1)\n",
        "D = np.diag(degrees)\n",
        "Dsqinv = np.diag(np.sqrt(1/degrees))\n",
        "Dsqinv"
      ],
      "metadata": {
        "colab": {
          "base_uri": "https://localhost:8080/"
        },
        "id": "yZ3VrSgK0-rE",
        "outputId": "f9b6e0f6-e3d4-4f3e-9c0d-43e87d9005bc"
      },
      "execution_count": 12,
      "outputs": [
        {
          "output_type": "execute_result",
          "data": {
            "text/plain": [
              "array([[0.70710678, 0.        , 0.        , 0.        ],\n",
              "       [0.        , 0.57735027, 0.        , 0.        ],\n",
              "       [0.        , 0.        , 0.57735027, 0.        ],\n",
              "       [0.        , 0.        , 0.        , 0.70710678]])"
            ]
          },
          "metadata": {},
          "execution_count": 12
        }
      ]
    },
    {
      "cell_type": "code",
      "source": [
        "C = Dsqinv@B@Dsqinv\n",
        "C"
      ],
      "metadata": {
        "colab": {
          "base_uri": "https://localhost:8080/"
        },
        "id": "zpE537TU18H-",
        "outputId": "f5e0a666-f269-4555-c959-4df8017003ca"
      },
      "execution_count": 13,
      "outputs": [
        {
          "output_type": "execute_result",
          "data": {
            "text/plain": [
              "array([[0.5       , 0.40824829, 0.        , 0.        ],\n",
              "       [0.40824829, 0.33333333, 0.33333333, 0.        ],\n",
              "       [0.        , 0.33333333, 0.33333333, 0.40824829],\n",
              "       [0.        , 0.        , 0.40824829, 0.5       ]])"
            ]
          },
          "metadata": {},
          "execution_count": 13
        }
      ]
    },
    {
      "cell_type": "markdown",
      "source": [
        "The new aggregation is the multiplication with $C$ instead of $A$."
      ],
      "metadata": {
        "id": "YQ2XzDom3fjL"
      }
    },
    {
      "cell_type": "markdown",
      "source": [
        "### the Graph neural net layer\n",
        "Finally let us put everything together in a neural network layer"
      ],
      "metadata": {
        "id": "7Xx5EIfr4Ga1"
      }
    },
    {
      "cell_type": "code",
      "source": [
        "# function for the GNN layer\n",
        "def GNNlayer(X,A,embed_size):\n",
        "  N,F = X.shape\n",
        "  W = np.random.rand(F,embed_size)\n",
        "  B = A + np.eye(N)\n",
        "  degrees = np.sum(B,1)\n",
        "  Dsqinv = np.diag(np.sqrt(1/degrees))\n",
        "  return Dsqinv@X@W"
      ],
      "metadata": {
        "id": "Xkz4pcT42W_h"
      },
      "execution_count": 14,
      "outputs": []
    },
    {
      "cell_type": "code",
      "source": [
        "X2 = GNNlayer(X,A,5)"
      ],
      "metadata": {
        "id": "QMG58Asn2jcB"
      },
      "execution_count": 15,
      "outputs": []
    },
    {
      "cell_type": "markdown",
      "source": [
        "Voila!"
      ],
      "metadata": {
        "id": "-c3n4xzB5w4y"
      }
    },
    {
      "cell_type": "markdown",
      "source": [
        "## A full GNN\n",
        "In a complete GNN, there are several layers and nonlinear functions in between"
      ],
      "metadata": {
        "id": "IUURvnab50Yw"
      }
    },
    {
      "cell_type": "code",
      "source": [
        "X2 = GNNlayer(X,A,5)\n",
        "X2n = np.tanh(X2)\n",
        "X3 = GNNlayer(X2n,A,5)"
      ],
      "metadata": {
        "id": "VJoHYX_s5c5g"
      },
      "execution_count": 16,
      "outputs": []
    },
    {
      "cell_type": "code",
      "source": [
        "X3"
      ],
      "metadata": {
        "colab": {
          "base_uri": "https://localhost:8080/"
        },
        "id": "9CgcUefB5iqt",
        "outputId": "dc6afe5d-a67d-4c05-e87f-8e9678a67f32"
      },
      "execution_count": 17,
      "outputs": [
        {
          "output_type": "execute_result",
          "data": {
            "text/plain": [
              "array([[0.27422307, 0.37144695, 0.40812384, 0.49985202, 0.27167603],\n",
              "       [0.350052  , 0.40113401, 0.5041887 , 0.58418814, 0.36288148],\n",
              "       [0.33361901, 0.33931501, 0.41305918, 0.52469702, 0.33197239],\n",
              "       [1.22193744, 1.4066311 , 1.62929405, 2.02352632, 1.21584398]])"
            ]
          },
          "metadata": {},
          "execution_count": 17
        }
      ]
    },
    {
      "cell_type": "markdown",
      "source": [
        "We stop here. We don't cover the training of the GNN (updating the weight matrix)."
      ],
      "metadata": {
        "id": "GnyO5D3W7YY5"
      }
    },
    {
      "cell_type": "markdown",
      "source": [
        "# Conclusion\n",
        "\n",
        "Take away messages:\n",
        "* Output of the GNN: one vector per node. To obtain one velue per graph (e.g. molecules) you need an additional operation: Pooling.\n",
        "* Aggregation depends only on the connections: 1) it is not learnable, 2) same action for any node (independent on the location in the graph)\n",
        "* With many neighbors, aggregation average all values. It leads to oversmoothing.\n",
        "* 1 layer aggregate over one-hop neighbors, with 2 layers each node can get information from 2-hop neighbors  "
      ],
      "metadata": {
        "id": "nUtush6H7Rb7"
      }
    },
    {
      "cell_type": "code",
      "source": [],
      "metadata": {
        "id": "UeFgM51N6Qgk"
      },
      "execution_count": 17,
      "outputs": []
    }
  ]
}